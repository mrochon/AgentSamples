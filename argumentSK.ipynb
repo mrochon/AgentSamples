{
 "cells": [
  {
   "cell_type": "markdown",
   "metadata": {},
   "source": [
    "## Chat Completion agent\n",
    "\n",
    "[MS Learn sample](https://learn.microsoft.com/en-us/semantic-kernel/frameworks/agent/chat-completion-agent?pivots=programming-language-python)"
   ]
  },
  {
   "cell_type": "code",
   "execution_count": 2,
   "metadata": {},
   "outputs": [
    {
     "data": {
      "text/plain": [
       "True"
      ]
     },
     "execution_count": 2,
     "metadata": {},
     "output_type": "execute_result"
    }
   ],
   "source": [
    "import asyncio\n",
    "import os\n",
    "import sys\n",
    "from dotenv import load_dotenv\n",
    "from datetime import datetime\n",
    "\n",
    "from semantic_kernel.agents import ChatCompletionAgent\n",
    "from semantic_kernel.connectors.ai.function_choice_behavior import FunctionChoiceBehavior\n",
    "from semantic_kernel.connectors.ai.open_ai import AzureChatCompletion\n",
    "from semantic_kernel.contents.chat_history import ChatHistory\n",
    "from semantic_kernel.contents.chat_message_content import ChatMessageContent\n",
    "from semantic_kernel.contents.utils.author_role import AuthorRole\n",
    "from semantic_kernel.kernel import Kernel\n",
    "\n",
    "load_dotenv()"
   ]
  },
  {
   "cell_type": "code",
   "execution_count": 3,
   "metadata": {},
   "outputs": [],
   "source": [
    "chatServiceName = \"chatService\"\n",
    "advocateName = \"Advocate\"\n",
    "prosecutorName = \"Prosecutor\"\n",
    "advocateInstructions = \"\"\"You are the advocate agent supporting the user proposal. You should articulate reasons supporting that proposal.\n",
    "    You should also argue against any arguments raised by the prosecutor agent and listed in the history.\n",
    "    Be brief and concise in presenting your arguments.\n",
    "    If you cannot find a good argument respond with 'I give up.'\"\"\"\n",
    "prosecutorInstructions = \"\"\"You are the Prosecutor agent whose job is to argue against the User proposal and against the Advocate agents arguments.\n",
    "    Be brief and concise in presenting your arguments.\n",
    "    If you cannot find a good argument respond with 'I give up.'\"\"\""
   ]
  },
  {
   "cell_type": "code",
   "execution_count": 4,
   "metadata": {},
   "outputs": [],
   "source": [
    "chat_completion_service = AzureChatCompletion(\n",
    "    deployment_name=os.getenv(\"AZURE_OPENAI_CHAT_DEPLOYMENT_NAME\"),  \n",
    "    api_key=os.getenv(\"AZURE_OPENAI_API_KEY\"),\n",
    "    endpoint=os.getenv(\"AZURE_OPENAI_ENDPOINT\"),\n",
    "    service_id=chatServiceName, # Optional; for targeting specific services within Semantic Kernel\n",
    ")"
   ]
  },
  {
   "cell_type": "code",
   "execution_count": null,
   "metadata": {},
   "outputs": [],
   "source": [
    "# Define the Kernel\n",
    "kernel = Kernel()\n",
    "\n",
    "# Add the AzureChatCompletion AI Service to the Kernel\n",
    "kernel.add_service(AzureChatCompletion(service_id=\"chatService\"))\n",
    "\n",
    "# Create the agent\n",
    "advocate = ChatCompletionAgent(\n",
    "  service_id=chatServiceName, \n",
    "  kernel=kernel, \n",
    "  name=advocateName, \n",
    "  instructions=advocateInstructions,\n",
    ")\n",
    "prosecutor = ChatCompletionAgent(\n",
    "  service_id=chatServiceName, \n",
    "  kernel=kernel, \n",
    "  name=prosecutorName, \n",
    "  instructions=prosecutorInstructions,\n",
    ")"
   ]
  },
  {
   "cell_type": "code",
   "execution_count": 6,
   "metadata": {},
   "outputs": [
    {
     "name": "stdout",
     "output_type": "stream",
     "text": [
      "## Proposal\n",
      "\n",
      "Small cars are dangerous\n",
      "## Advocate\n",
      "\n",
      " Small cars are often perceived as dangerous due to their size and weight, making them more vulnerable in collisions with larger vehicles. Statistics can support this claim, as small cars tend to have poorer crash test ratings compared to larger vehicles, which can absorb more impact and provide better protection for occupants.\n",
      "\n",
      "Furthermore, smaller cars may lack advanced safety features that are more commonly found in larger models, such as robust crumple zones, advanced airbag systems, and stability control. This potential shortfall in safety features contributes to a higher risk of injury and fatalities in the event of an accident.\n",
      "\n",
      "Additionally, small cars can be less visible on the road, increasing the risk of being overlooked by other drivers, which can lead to dangerous situations.\n",
      "\n",
      "In addressing possible arguments that small cars are fuel-efficient and environmentally friendly, it is important to highlight that safety should be prioritized over fuel economy. While small cars may have lower emissions and better mileage, the cost of human life and well-being can outweigh these benefits.\n",
      "\n",
      "Therefore, it is valid to argue that small cars pose inherent dangers that must be considered when evaluating their overall contribution to road safety and public health.\n",
      "## Prosecutor\n",
      "\n",
      " While it's true that small cars can be less safe in collisions with larger vehicles, this assertion overlooks significant advances in automotive safety technology. Many small cars today are equipped with sophisticated safety features such as side-impact airbags, stability control, and reinforced structures designed to improve crashworthiness. \n",
      "\n",
      "Additionally, the notion that larger vehicles are inherently safer is misleading. Larger vehicles can contribute to more severe accidents due to their greater mass and potential for causing significant damage. Furthermore, data shows that smaller, well-designed cars can perform admirably in crash tests, often outranking some larger vehicles in terms of safety ratings.\n",
      "\n",
      "Finally, the increasing popularity of small cars often aligns with urban environments that prioritize fuel economy, maneuverability, and eco-friendliness. Dismissing small cars as inherently dangerous ignores these considerations and the potential benefits of their design in today’s transport landscape. \n",
      "## Advocate\n",
      "\n",
      " Advocate: While advancements in automotive safety technology have improved small car design, they still often do not match the overall robustness of larger vehicles in real-world collisions. Despite safety features like airbags and stability control, the physics of a crash involving a larger vehicle remains a significant threat to smaller car occupants. No amount of technology can entirely negate the disadvantages imposed by size and weight in a collision.\n",
      "\n",
      "Moreover, it's important to recognize that larger vehicles not only have the potential to cause more damage but also result in a greater likelihood of severe injuries for those in smaller cars when involved in an accident. The disparity in size inherently elevates risk factors for smaller vehicle occupants.\n",
      "\n",
      "The argument that smaller cars suit urban environments overlooks the fact that urban settings can also present higher risks—such as increased traffic and the likelihood of accidents—where a small car's vulnerabilities are highlighted again. In such environments, the dimensions and structure of larger vehicles can contribute to safer overall dynamics on the road.\n",
      "\n",
      "Given these factors, the argument that small cars are less safe remains compelling. Their design may address certain needs, but they cannot escape the fundamental drawbacks associated with their smaller stature in the face of larger adversaries on the road.\n",
      "## Prosecutor\n",
      "\n",
      " I give up.\n"
     ]
    }
   ],
   "source": [
    "history = ChatHistory()\n",
    "user_input = input(\"User:> \")\n",
    "print(f\"## Proposal\\n\\n{user_input}\")\n",
    "turns = 0\n",
    "if user_input:\n",
    "    history.add_message(ChatMessageContent(role=AuthorRole.USER, content=f\"User proposal: {user_input}\"))\n",
    "    is_complete: bool = False\n",
    "    agents = [ advocate, prosecutor ]\n",
    "    agentNo = 0\n",
    "    while not is_complete:\n",
    "        agent = agents[agentNo]\n",
    "        async for response in agent.invoke(history=history):\n",
    "            print(f\"## {agent.name}\\n\\n {response.content}\")\n",
    "            history.add_message(ChatMessageContent(role=AuthorRole.ASSISTANT, content=f\"{agent.name}: {response.content}\"))\n",
    "        if response.content == \"I give up.\":\n",
    "            is_complete = True\n",
    "            break\n",
    "        turns += 1\n",
    "        if turns == 5:\n",
    "            print(\"## Timeout!!!\")\n",
    "            is_complete = True\n",
    "            break\n",
    "        agentNo = (agentNo + 1) % 2\n"
   ]
  }
 ],
 "metadata": {
  "kernelspec": {
   "display_name": ".venv",
   "language": "python",
   "name": "python3"
  },
  "language_info": {
   "codemirror_mode": {
    "name": "ipython",
    "version": 3
   },
   "file_extension": ".py",
   "mimetype": "text/x-python",
   "name": "python",
   "nbconvert_exporter": "python",
   "pygments_lexer": "ipython3",
   "version": "3.12.9"
  }
 },
 "nbformat": 4,
 "nbformat_minor": 2
}
