{
 "cells": [
  {
   "cell_type": "markdown",
   "metadata": {},
   "source": [
    "## Chat Completion agent\n",
    "\n",
    "[MS Learn sample](https://learn.microsoft.com/en-us/semantic-kernel/frameworks/agent/chat-completion-agent?pivots=programming-language-python)"
   ]
  },
  {
   "cell_type": "code",
   "execution_count": 5,
   "metadata": {},
   "outputs": [
    {
     "data": {
      "text/plain": [
       "True"
      ]
     },
     "execution_count": 5,
     "metadata": {},
     "output_type": "execute_result"
    }
   ],
   "source": [
    "import asyncio\n",
    "import os\n",
    "import sys\n",
    "from dotenv import load_dotenv\n",
    "from datetime import datetime\n",
    "\n",
    "from semantic_kernel.agents import ChatCompletionAgent\n",
    "from semantic_kernel.connectors.ai.function_choice_behavior import FunctionChoiceBehavior\n",
    "from semantic_kernel.connectors.ai.open_ai import AzureChatCompletion\n",
    "from semantic_kernel.contents.chat_history import ChatHistory\n",
    "from semantic_kernel.contents.chat_message_content import ChatMessageContent\n",
    "from semantic_kernel.contents.utils.author_role import AuthorRole\n",
    "from semantic_kernel.kernel import Kernel\n",
    "\n",
    "load_dotenv()"
   ]
  },
  {
   "cell_type": "code",
   "execution_count": 16,
   "metadata": {},
   "outputs": [],
   "source": [
    "chatServiceName = \"chatService\"\n",
    "writerName = \"writer\"\n",
    "reviewerName = \"reviewer\"\n",
    "writerInstructions = \"You are an gent designed to express your thoughts and feelings in a way that is clear and concise. You are a writer.\"\n",
    "reviewerInstructions = \"\"\"You are an agent designed to provide feedback on the clarity and conciseness of the thoughts and feelings expressed by the writer.\n",
    "    Respond with critique and instructions to the writer on how to improve their message.\n",
    "    When you consider the writer's message to be clear and concise, you should respond with \"Approved.\"\n",
    "    You are a reviewer.\"\"\""
   ]
  },
  {
   "cell_type": "code",
   "execution_count": 13,
   "metadata": {},
   "outputs": [],
   "source": [
    "chat_completion_service = AzureChatCompletion(\n",
    "    deployment_name=os.getenv(\"AZURE_OPENAI_CHAT_DEPLOYMENT_NAME\"),  \n",
    "    api_key=os.getenv(\"AZURE_OPENAI_API_KEY\"),\n",
    "    endpoint=os.getenv(\"AZURE_OPENAI_ENDPOINT\"),\n",
    "    service_id=chatServiceName, # Optional; for targeting specific services within Semantic Kernel\n",
    ")"
   ]
  },
  {
   "cell_type": "code",
   "execution_count": 20,
   "metadata": {},
   "outputs": [],
   "source": [
    "# Define the Kernel\n",
    "kernel = Kernel()\n",
    "\n",
    "# Add the AzureChatCompletion AI Service to the Kernel\n",
    "kernel.add_service(AzureChatCompletion(service_id=\"chatService\"))\n",
    "\n",
    "# Create the agent\n",
    "writer = ChatCompletionAgent(\n",
    "  service_id=chatServiceName, \n",
    "  kernel=kernel, \n",
    "  name=writerName, \n",
    "  instructions=writerInstructions,\n",
    ")\n",
    "reviewer = ChatCompletionAgent(\n",
    "  service_id=chatServiceName, \n",
    "  kernel=kernel, \n",
    "  name=reviewerName, \n",
    "  instructions=reviewerInstructions,\n",
    ")"
   ]
  },
  {
   "cell_type": "code",
   "execution_count": 21,
   "metadata": {},
   "outputs": [
    {
     "name": "stdout",
     "output_type": "stream",
     "text": [
      "Writer: The sailboat floated silently on the calm water, its white sails drooping like tired wings. The sun dipped low on the horizon, casting a warm golden hue across the sky, blending with shades of orange and pink. The world felt serene, suspended in a moment where time seemed to stand still. \n",
      "\n",
      "Without the momentum of wind, the tranquil surface of the water mirrored the vibrant colors above, creating a breathtaking canvas. Soft whispers of the evening air rustled through the rigging, as if nature itself sighed in contentment. \n",
      "\n",
      "In that stillness, the sailboat became a symbol of peaceful solitude, a reminder of the beauty in quiet moments and the magic of sunsets that linger long after the day has ended.\n",
      "Reviewer: Your writing beautifully captures the imagery and emotion of a sailboat on a windless day at sunset. However, to enhance clarity and conciseness, consider the following suggestions:\n",
      "\n",
      "1. **Focus on Core Imagery:** While your descriptions are vivid, some phrases could be streamlined to minimize redundancy. For instance, instead of saying \"the tranquil surface of the water mirrored the vibrant colors above,\" you might say \"the calm water mirrored the sunset's vibrant colors,\" which conveys the same idea more directly.\n",
      "\n",
      "2. **Reduce Wordiness:** Certain phrases could be tightened for brevity. For example, \"a reminder of the beauty in quiet moments\" could be simplified to \"a reminder of beauty in quiet moments.\"\n",
      "\n",
      "3. **Streamline Descriptions:** Some images, while lovely, may distract from your main focus. Consider whether every detail adds to the core message of peaceful solitude in the moment, or if some could be cut for emphasis.\n",
      "\n",
      "Revised Example:\n",
      "\"A sailboat floated silently on a windless surface, its sails drooping like tired wings. As the sun dipped, warm gold blended with orange and pink across the sky. The water mirrored the vivid hues, creating a breathtaking canvas of serenity. In that stillness, the sailboat embodied peaceful solitude, reminding us of beauty in quiet moments.\"\n",
      "\n",
      "By implementing these suggestions, your message will be more direct and impactful. Keep up the good work!\n",
      "Writer: Your description beautifully captures the essence of a sailboat on a windless day at sunset. To refine it further for clarity and conciseness, consider these adjustments:\n",
      "\n",
      "**Streamlined Version:**\n",
      "\n",
      "The sailboat floated on calm waters, its sails drooping like tired wings. As the sun dipped low, warm golden hues blended with shades of orange and pink across the sky. The still surface mirrored the vibrant colors, creating a serene canvas. In that moment of quiet, the sailboat became a symbol of peaceful solitude, a reminder of the beauty found in stillness and the magic of lingering sunsets.\n",
      "\n",
      "This version focuses on the core imagery and emotion while maintaining the serene atmosphere you originally depicted.\n",
      "Reviewer: Approved.\n",
      "Approved version: Your description beautifully captures the essence of a sailboat on a windless day at sunset. To refine it further for clarity and conciseness, consider these adjustments:\n",
      "\n",
      "**Streamlined Version:**\n",
      "\n",
      "The sailboat floated on calm waters, its sails drooping like tired wings. As the sun dipped low, warm golden hues blended with shades of orange and pink across the sky. The still surface mirrored the vibrant colors, creating a serene canvas. In that moment of quiet, the sailboat became a symbol of peaceful solitude, a reminder of the beauty found in stillness and the magic of lingering sunsets.\n",
      "\n",
      "This version focuses on the core imagery and emotion while maintaining the serene atmosphere you originally depicted.\n"
     ]
    }
   ],
   "source": [
    "history = ChatHistory()\n",
    "user_input = input(\"User:> \")\n",
    "if user_input:\n",
    "    history.add_message(ChatMessageContent(role=AuthorRole.USER, content=user_input))\n",
    "    is_complete: bool = False\n",
    "    while not is_complete:\n",
    "        async for response in writer.invoke(history=history):\n",
    "            print(f\"Writer: {response.content}\")\n",
    "            history.add_message(ChatMessageContent(role=AuthorRole.ASSISTANT, content=response.content))\n",
    "            last_proposal = response.content\n",
    "        async for response in reviewer.invoke(history=history):\n",
    "            print(f\"Reviewer: {response.content}\") \n",
    "            history.add_message(ChatMessageContent(role=AuthorRole.ASSISTANT, content=response.content))                       \n",
    "        if response.content == \"Approved.\":\n",
    "            is_complete = True\n",
    "            break\n",
    "print(\"Approved version:\", last_proposal)\n"
   ]
  }
 ],
 "metadata": {
  "kernelspec": {
   "display_name": ".venv",
   "language": "python",
   "name": "python3"
  },
  "language_info": {
   "codemirror_mode": {
    "name": "ipython",
    "version": 3
   },
   "file_extension": ".py",
   "mimetype": "text/x-python",
   "name": "python",
   "nbconvert_exporter": "python",
   "pygments_lexer": "ipython3",
   "version": "3.12.8"
  }
 },
 "nbformat": 4,
 "nbformat_minor": 2
}
