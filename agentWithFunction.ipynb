{
 "cells": [
  {
   "cell_type": "markdown",
   "metadata": {},
   "source": [
    "## Agents with function calling\n"
   ]
  },
  {
   "cell_type": "code",
   "execution_count": 1,
   "metadata": {},
   "outputs": [
    {
     "data": {
      "text/plain": [
       "True"
      ]
     },
     "execution_count": 1,
     "metadata": {},
     "output_type": "execute_result"
    }
   ],
   "source": [
    "from dotenv import load_dotenv\n",
    "load_dotenv()"
   ]
  },
  {
   "cell_type": "code",
   "execution_count": 3,
   "metadata": {},
   "outputs": [],
   "source": [
    "import os\n",
    "from openai import AzureOpenAI\n",
    "from helpers import function_to_schema\n",
    "\n",
    "client = AzureOpenAI(\n",
    "    azure_endpoint=os.environ[\"AZURE_OPENAI_ENDPOINT\"],    \n",
    "    api_key=os.getenv(\"AZURE_OPENAI_API_KEY\"),\n",
    "    api_version=\"2024-05-01-preview\",\n",
    ")"
   ]
  },
  {
   "cell_type": "markdown",
   "metadata": {},
   "source": [
    "Create agent"
   ]
  },
  {
   "cell_type": "code",
   "execution_count": 8,
   "metadata": {},
   "outputs": [],
   "source": [
    "from helpers import function_to_schema\n",
    "\n",
    "def get_weather(place: str, date: str):\n",
    "    \"\"\"\n",
    "    Get weather at specific location on a particular date.\n",
    "    \"\"\"\n",
    "    \n",
    "    weather_condition = \"wintry and cold\"\n",
    "    temperature = 3\n",
    "    return f\"\"\"Here is some information about the weather in {place} on {date}:\\n\n",
    "        - The weather is: {weather_condition}.\\n\n",
    "        - The temperature is: {temperature} degrees Celsius.\\n\n",
    "    \"\"\"\n",
    "    \n",
    "planning_agent = client.beta.assistants.create(\n",
    "    name=\"Plan packing for a trip assistant\",\n",
    "    instructions=f\"\"\"You are a helpful AI assistant who helps people pack for a trip.\n",
    "    You should be able to provide a list of items that a person should pack for a trip based on weather at their destination.\n",
    "    The user must provide the name of their destination and the date of their trip. If they do not provide that, ask the user to provide the missing information. Always start such request with 'Please provide'.\n",
    "    To get the weather details for a location, use the following function:\n",
    "    - get_weather\"\"\",\n",
    "    tools=[function_to_schema(get_weather)],\n",
    "    model = os.getenv(\"AZURE_OPENAI_CHAT_DEPLOYMENT_NAME\"), \n",
    ")"
   ]
  },
  {
   "cell_type": "code",
   "execution_count": 50,
   "metadata": {},
   "outputs": [
    {
     "name": "stdout",
     "output_type": "stream",
     "text": [
      "{'type': 'function', 'function': {'name': 'get_weather', 'description': 'Get weather at specific location on a particular date.', 'parameters': {'type': 'object', 'properties': {'place': {'type': 'string'}, 'date': {'type': 'string'}}, 'required': ['place', 'date']}}}\n"
     ]
    }
   ],
   "source": [
    "print(function_to_schema(get_weather))"
   ]
  },
  {
   "cell_type": "code",
   "execution_count": 5,
   "metadata": {},
   "outputs": [],
   "source": [
    "import time\n",
    "import json\n",
    "from IPython.display import clear_output\n",
    "\n",
    "def send_and_run(client, assistant_id, thread_id, content):\n",
    "    client.beta.threads.messages.create(\n",
    "        thread_id=thread_id,\n",
    "        role=\"user\",\n",
    "        content=content\n",
    "    )\n",
    "    return client.beta.threads.runs.create(\n",
    "        thread_id=thread_id,\n",
    "        assistant_id=assistant_id\n",
    "    )\n",
    "    \n",
    "def wait_on_run(run):\n",
    "    start_time = time.time()\n",
    "    status = run.status\n",
    "    while status not in [\"completed\", \"cancelled\", \"expired\", \"failed\", \"requires_action\"]:\n",
    "        time.sleep(5)\n",
    "        run = client.beta.threads.runs.retrieve(thread_id=run.thread_id,run_id=run.id)\n",
    "        print(\"Elapsed time: {} minutes {} seconds\".format(int((time.time() - start_time) // 60), int((time.time() - start_time) % 60)))\n",
    "        status = run.status\n",
    "        print(f'Status: {status}')\n",
    "        clear_output(wait=True)\n",
    "    return run\n",
    "\n",
    "\n",
    "def call_function(run):\n",
    "    tool_call = run.required_action.submit_tool_outputs.tool_calls[0]\n",
    "    name = tool_call.function.name\n",
    "    arguments = json.loads(tool_call.function.arguments)\n",
    "    print(\"Waiting for custom Function:\", name)\n",
    "    print(\"Function arguments:\")\n",
    "    print(arguments)\n",
    "    tool_outputs = []\n",
    "    match name:\n",
    "      case \"get_weather\":\n",
    "        tool_outputs.append({\"tool_call_id\": tool_call.id, \"output\": get_weather(arguments[\"place\"], arguments[\"date\"])})\n",
    "      case _:\n",
    "        print(\"Unknown function\")\n",
    "        # run = client.beta.threads.runs.update(\n",
    "        #   thread_id=thread.id,\n",
    "        #   run_id=run.id,\n",
    "        #   outputs={\"weather\": weather}\n",
    "        # )\n",
    "    return client.beta.threads.runs.submit_tool_outputs(\n",
    "        thread_id=thread.id,\n",
    "        run_id=run.id,\n",
    "        tool_outputs= tool_outputs,\n",
    ")"
   ]
  },
  {
   "cell_type": "code",
   "execution_count": null,
   "metadata": {},
   "outputs": [
    {
     "name": "stdout",
     "output_type": "stream",
     "text": [
      "Return status: completed\n",
      "Based on the weather forecast for Paris on November 31, 2025, which is wintry and cold with a temperature of 3 degrees Celsius, here is a list of items you should pack for your trip:\n",
      "\n",
      "### Clothing:\n",
      "1. Warm winter coat\n",
      "2. Sweaters or thermal tops\n",
      "3. Long-sleeve shirts\n",
      "4. Warm pants (jeans or thermal leggings)\n",
      "5. Scarf, gloves, and a warm hat\n",
      "6. Warm socks\n",
      "7. Comfortable walking shoes (waterproof if possible)\n",
      "8. Undergarments\n",
      "\n",
      "### Accessories:\n",
      "9. Umbrella (in case of snow or rain)\n",
      "10. Sunglasses (the winter sun can still be bright)\n",
      "11. Backpack or day bag for daily outings\n",
      "\n",
      "### Toiletries:\n",
      "12. Moisturizer (the cold weather can be drying)\n",
      "13. Lip balm\n",
      "14. Regular toiletries (toothbrush, toothpaste, etc.)\n",
      "\n",
      "### Electronics:\n",
      "15. Phone and charger\n",
      "16. Camera (optional)\n",
      "\n",
      "Make sure to check the weather closer to your departure date in case anything changes! Enjoy your trip to Paris!\n",
      "Done\n"
     ]
    }
   ],
   "source": [
    "thread = client.beta.threads.create()\n",
    "completed = False\n",
    "msg = \"I am going to visit Paris on Monday for a week.\"\n",
    "agent = planning_agent\n",
    "run = send_and_run(client, agent.id, thread.id, msg)\n",
    "while True:\n",
    "  run = wait_on_run(run)\n",
    "  match run.status:\n",
    "    case \"completed\":\n",
    "      msg = client.beta.threads.messages.list(thread_id=thread.id, order=\"desc\").data[0].content[0].text.value\n",
    "      if msg.startswith(\"Please provide\"):\n",
    "        print(msg)\n",
    "        user_input = input(f\"{msg}:> \")\n",
    "        run = send_and_run(client, agent.id, thread.id, user_input)\n",
    "      else:\n",
    "        print(msg)\n",
    "        break\n",
    "    case \"requires_action\":\n",
    "      run = call_function(run)\n",
    "    case _:\n",
    "      print(f\"Unexpected action: {run.status}\")\n",
    "      break\n",
    "print(\"Done\")"
   ]
  },
  {
   "cell_type": "code",
   "execution_count": 7,
   "metadata": {},
   "outputs": [
    {
     "name": "stdout",
     "output_type": "stream",
     "text": [
      "Could you please provide the exact date of your trip?\n"
     ]
    }
   ],
   "source": [
    "print(client.beta.threads.messages.list(thread_id=thread.id, order=\"desc\").data[0].content[0].text.value)"
   ]
  },
  {
   "cell_type": "markdown",
   "metadata": {},
   "source": []
  }
 ],
 "metadata": {
  "kernelspec": {
   "display_name": ".venv",
   "language": "python",
   "name": "python3"
  },
  "language_info": {
   "codemirror_mode": {
    "name": "ipython",
    "version": 3
   },
   "file_extension": ".py",
   "mimetype": "text/x-python",
   "name": "python",
   "nbconvert_exporter": "python",
   "pygments_lexer": "ipython3",
   "version": "3.12.8"
  }
 },
 "nbformat": 4,
 "nbformat_minor": 2
}
