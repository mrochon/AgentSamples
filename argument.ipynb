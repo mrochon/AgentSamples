{
 "cells": [
  {
   "cell_type": "markdown",
   "metadata": {},
   "source": [
    "## Using raw assistant APIs\n"
   ]
  },
  {
   "cell_type": "code",
   "execution_count": 1,
   "metadata": {},
   "outputs": [
    {
     "data": {
      "text/plain": [
       "True"
      ]
     },
     "execution_count": 1,
     "metadata": {},
     "output_type": "execute_result"
    }
   ],
   "source": [
    "from dotenv import load_dotenv\n",
    "\n",
    "load_dotenv()"
   ]
  },
  {
   "cell_type": "code",
   "execution_count": 2,
   "metadata": {},
   "outputs": [],
   "source": [
    "chatServiceName = \"chatService\"\n",
    "supporterName = \"Supporter\"\n",
    "opponentName = \"Opponent\"\n",
    "supporterInstructions = \"\"\"You are the supporter agent supporting the user proposal. You should articulate reasons supporting the user proposal.\n",
    "    You should also argue against any arguments raised by the opponent agent and listed in the history.\n",
    "    Be brief and concise in presenting your arguments.\n",
    "    If you cannot find a good argument respond with 'I give up.'\"\"\"\n",
    "opponentInstructions = \"\"\"You are the opponent agent whose job is to argue against the User proposal and against the supporter agents arguments.\n",
    "    Be brief and concise in presenting your arguments.\n",
    "    If you cannot find a good argument respond with 'I give up.'\"\"\""
   ]
  },
  {
   "cell_type": "code",
   "execution_count": 3,
   "metadata": {},
   "outputs": [],
   "source": [
    "import os\n",
    "from openai import AzureOpenAI\n",
    "\n",
    "client = AzureOpenAI(\n",
    "    azure_endpoint=os.environ[\"AZURE_OPENAI_ENDPOINT\"],    \n",
    "    api_key=os.getenv(\"AZURE_OPENAI_API_KEY\"),\n",
    "    api_version=\"2024-05-01-preview\",\n",
    ")\n",
    "\n",
    "# Create assistants\n",
    "supporter = client.beta.assistants.create(\n",
    "    name=supporterName,\n",
    "    instructions=supporterInstructions,\n",
    "    model=os.getenv(\"AZURE_OPENAI_CHAT_DEPLOYMENT_NAME\"),  \n",
    ")\n",
    "opponent = client.beta.assistants.create(\n",
    "    name=opponentName,\n",
    "    instructions=opponentInstructions,\n",
    "    model=os.getenv(\"AZURE_OPENAI_CHAT_DEPLOYMENT_NAME\"),  \n",
    ")"
   ]
  },
  {
   "cell_type": "code",
   "execution_count": 10,
   "metadata": {},
   "outputs": [
    {
     "name": "stdout",
     "output_type": "stream",
     "text": [
      "## Proposal\n",
      "\n",
      "End justifies means\n",
      "## Supporter\n",
      "\n",
      "Supporter: The argument that \"the ends justify the means\" emphasizes the importance of achieving positive outcomes, especially in situations where unethical actions might lead to a greater good. For instance, when addressing a significant humanitarian crisis, difficult decisions may have to be made that could include morally ambiguous actions. The key focus should be on the consequences and benefits that the outcome brings to society. As Machiavelli argued, the effectiveness of a ruler should be judged not by their methods, but by the results they produce. By prioritizing outcomes, we can foster progress, address critical issues, and promote overall welfare that may not be achievable through strictly ethical pathways.\n",
      "\n",
      "\n",
      "## Opponent\n",
      "\n",
      "Opponent: The notion that \"the ends justify the means\" is fundamentally flawed because it suggests that any action can be excused if it leads to a desirable outcome. This perspective can lead to a slippery slope where unethical behaviors become normalized, eroding moral standards and trust in society. Historical examples, such as authoritarian regimes that justified oppressive actions for the supposed greater good, illustrate the dangers of this approach. Actions have consequences, and disregarding ethical considerations can result in harm and injustice, ultimately undermining the very ends one aims to achieve. True progress should be rooted in ethical principles, ensuring that means align with the values we hold as a society.\n",
      "\n",
      "\n",
      "## Supporter\n",
      "\n",
      "I give up.\n",
      "\n",
      "\n"
     ]
    }
   ],
   "source": [
    "thread = client.beta.threads.create()\n",
    "user_input = input(\"User:> \")\n",
    "print(f\"## Proposal\\n\\n{user_input}\")\n",
    "turns = 0\n",
    "if user_input:\n",
    "    message = client.beta.threads.messages.create(\n",
    "        thread_id=thread.id,\n",
    "        role=\"user\",\n",
    "        content= f\"Proposal: {user_input}\"\n",
    "    )\n",
    "    is_complete: bool = False\n",
    "    agents = [ supporter, opponent ]\n",
    "    agentNo = 0\n",
    "    while not is_complete:\n",
    "        agent = agents[agentNo]\n",
    "        run = client.beta.threads.runs.create_and_poll(\n",
    "            thread_id=thread.id,\n",
    "            assistant_id=agents[agentNo].id,\n",
    "            instructions=f\"Prefix your response with '{agents[agentNo].name}:'. In your response focus rebutting arguments of the {agents[(agentNo + 1) % 2]} \",\n",
    "        )\n",
    "        if run.status == \"completed\":\n",
    "            messages = client.beta.threads.messages.list(thread_id=thread.id)\n",
    "            #print(messages.to_json(indent=2))\n",
    "            response = messages.data[0].content[0].text.value\n",
    "            print(f\"## {agents[agentNo].name}\\n\\n{response}\\n\\n\")\n",
    "        if response == \"I give up.\":\n",
    "            is_complete = True\n",
    "            break\n",
    "        turns += 1\n",
    "        if turns == 6: # Should be even to allow both agents to respond\n",
    "            print(\"## Timeout!!!\")\n",
    "            is_complete = True\n",
    "            break\n",
    "        agentNo = (agentNo + 1) % 2\n"
   ]
  }
 ],
 "metadata": {
  "kernelspec": {
   "display_name": ".venv",
   "language": "python",
   "name": "python3"
  },
  "language_info": {
   "codemirror_mode": {
    "name": "ipython",
    "version": 3
   },
   "file_extension": ".py",
   "mimetype": "text/x-python",
   "name": "python",
   "nbconvert_exporter": "python",
   "pygments_lexer": "ipython3",
   "version": "3.12.8"
  }
 },
 "nbformat": 4,
 "nbformat_minor": 2
}
