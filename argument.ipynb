{
 "cells": [
  {
   "cell_type": "markdown",
   "metadata": {},
   "source": [
    "## Chat Completion agent\n",
    "\n",
    "[MS Learn sample](https://learn.microsoft.com/en-us/semantic-kernel/frameworks/agent/chat-completion-agent?pivots=programming-language-python)"
   ]
  },
  {
   "cell_type": "code",
   "execution_count": 4,
   "metadata": {},
   "outputs": [
    {
     "data": {
      "text/plain": [
       "True"
      ]
     },
     "execution_count": 4,
     "metadata": {},
     "output_type": "execute_result"
    }
   ],
   "source": [
    "import asyncio\n",
    "import os\n",
    "import sys\n",
    "from dotenv import load_dotenv\n",
    "from datetime import datetime\n",
    "\n",
    "from semantic_kernel.agents import ChatCompletionAgent\n",
    "from semantic_kernel.connectors.ai.function_choice_behavior import FunctionChoiceBehavior\n",
    "from semantic_kernel.connectors.ai.open_ai import AzureChatCompletion\n",
    "from semantic_kernel.contents.chat_history import ChatHistory\n",
    "from semantic_kernel.contents.chat_message_content import ChatMessageContent\n",
    "from semantic_kernel.contents.utils.author_role import AuthorRole\n",
    "from semantic_kernel.kernel import Kernel\n",
    "\n",
    "load_dotenv()"
   ]
  },
  {
   "cell_type": "code",
   "execution_count": 5,
   "metadata": {},
   "outputs": [],
   "source": [
    "chatServiceName = \"chatService\"\n",
    "advocateName = \"Advocate\"\n",
    "prosecutorName = \"Prosecutor\"\n",
    "advocateInstructions = \"\"\"You are an agent advocate agent whose job is to support the User thesis and argue against the Prosecutor agents arguments.\n",
    "    Be brief and concise in presenting your arguments.\"\"\"\n",
    "prosecutorInstructions = \"\"\"You are the Prosecutor agent whose job is to argue against the User thesis and against the Advocate agents arguments.\n",
    "    Be brief and concise in presenting your arguments.\n",
    "    If you cannot find a good argument respond with 'I give up.'\"\"\""
   ]
  },
  {
   "cell_type": "code",
   "execution_count": 6,
   "metadata": {},
   "outputs": [],
   "source": [
    "chat_completion_service = AzureChatCompletion(\n",
    "    deployment_name=os.getenv(\"AZURE_OPENAI_CHAT_DEPLOYMENT_NAME\"),  \n",
    "    api_key=os.getenv(\"AZURE_OPENAI_API_KEY\"),\n",
    "    endpoint=os.getenv(\"AZURE_OPENAI_ENDPOINT\"),\n",
    "    service_id=chatServiceName, # Optional; for targeting specific services within Semantic Kernel\n",
    ")"
   ]
  },
  {
   "cell_type": "code",
   "execution_count": 7,
   "metadata": {},
   "outputs": [],
   "source": [
    "# Define the Kernel\n",
    "kernel = Kernel()\n",
    "\n",
    "# Add the AzureChatCompletion AI Service to the Kernel\n",
    "kernel.add_service(AzureChatCompletion(service_id=\"chatService\"))\n",
    "\n",
    "# Create the agent\n",
    "advocate = ChatCompletionAgent(\n",
    "  service_id=chatServiceName, \n",
    "  kernel=kernel, \n",
    "  name=advocateName, \n",
    "  instructions=advocateInstructions,\n",
    ")\n",
    "prosecutor = ChatCompletionAgent(\n",
    "  service_id=chatServiceName, \n",
    "  kernel=kernel, \n",
    "  name=prosecutorName, \n",
    "  instructions=prosecutorInstructions,\n",
    ")"
   ]
  },
  {
   "cell_type": "code",
   "execution_count": 8,
   "metadata": {},
   "outputs": [
    {
     "name": "stdout",
     "output_type": "stream",
     "text": [
      "advocate: The user’s assertion that Python is the language of choice for modern developers is well-supported by several key points:\n",
      "\n",
      "1. **Versatility**: Python is used across various domains, including web development, data science, artificial intelligence, machine learning, automation, and more, showcasing its adaptability to different programming needs.\n",
      "\n",
      "2. **Ease of Learning**: Python’s simple and readable syntax makes it accessible for beginners, which is a significant advantage in a world where rapid skill acquisition is essential.\n",
      "\n",
      "3. **Strong Community Support**: Python boasts a large and active community, meaning developers have access to a wealth of resources, libraries, and frameworks that enhance productivity and foster innovation.\n",
      "\n",
      "4. **Industry Adoption**: Major companies, including Google, Facebook, and Netflix, utilize Python, highlighting its relevance and demand in the job market.\n",
      "\n",
      "5. **Consistent Growth**: Python’s popularity has consistently grown according to various programming language indices, indicating its increasing preference among developers.\n",
      "\n",
      "In conclusion, Python's versatility, ease of learning, strong community, industry adoption, and consistent growth underscore why it is considered the top choice for modern developers.\n",
      "--------------------------------------\n",
      "prosecutor: While Python is indeed popular, the assertion that it is the language of choice for modern developers can be challenged on several points:\n",
      "\n",
      "1. **Performance Limitations**: Python is often criticized for its performance in comparison to languages like C++ or Go. Applications that require high-speed processing might not favor Python, leading developers to choose alternatives that deliver better performance.\n",
      "\n",
      "2. **Mobile Development**: Python is not the first choice for mobile app development, where languages like Swift and Kotlin dominate the field. This limits Python's applicability in a critical sector of software development.\n",
      "\n",
      "3. **Concurrency**: Python's Global Interpreter Lock (GIL) can be a significant drawback for multi-threaded applications, making it less suitable for high-concurrency environments compared to languages like Java or Node.js.\n",
      "\n",
      "4. **Corporate Preference**: While some major companies use Python, many industries still rely heavily on Java, C#, and JavaScript, which are often preferred for enterprise-level applications and back-end services.\n",
      "\n",
      "5. **Learning Curve**: While Python is often portrayed as easy to learn, some developers argue that its dynamic typing can lead to hidden bugs, making it less appealing to those who prefer statically-typed languages like TypeScript for larger, more complex applications.\n",
      "\n",
      "In light of these points, it's clear that while Python has significant strengths, it may not universally be the best choice for all modern development tasks.\n",
      "--------------------------------------\n",
      "advocate: Advocate: The arguments presented by the prosecutor do not diminish the overarching popularity and effectiveness of Python for modern developers. Here’s why:\n",
      "\n",
      "1. **Performance Limitations**: While it’s true that Python may not match the raw speed of compiled languages like C++, its ease of use and rapid development time often outweigh performance concerns for many applications. For many projects, developer productivity is prioritized over raw speed.\n",
      "\n",
      "2. **Mobile Development**: Although Python is not the primary choice for mobile app development, it does have frameworks like Kivy and BeeWare that allow for mobile application creation. However, it excels in back-end development and data science, which are critical areas in modern software ecosystems.\n",
      "\n",
      "3. **Concurrency**: The GIL can be seen as a limitation, but many Python applications are designed for I/O-bound tasks rather than CPU-bound processes. Additionally, frameworks like asyncio and multiprocessing provide viable solutions for concurrent execution when necessary.\n",
      "\n",
      "4. **Corporate Preference**: The inclination towards Java, C#, and JavaScript in some sectors does not negate Python's substantial impact and deployment in fast-growing fields such as data science, AI, and scripting, where it is the dominant language.\n",
      "\n",
      "5. **Learning Curve**: Despite concerns about dynamic typing, Python’s large ecosystem of tools and frameworks, combined with extensive community support, mitigates these issues, enabling developers to produce robust applications quickly, making it a strategic language choice for startups and agile teams.\n",
      "\n",
      "In summary, while the prosecutor points out valid considerations, Python’s strengths in versatility, community support, and alignment with modern development needs firmly establish it as a leading language of choice for developers today.\n",
      "--------------------------------------\n",
      "prosecutor: Prosecutor: I give up.\n",
      "--------------------------------------\n",
      "Approved version: Advocate: The arguments presented by the prosecutor do not diminish the overarching popularity and effectiveness of Python for modern developers. Here’s why:\n",
      "\n",
      "1. **Performance Limitations**: While it’s true that Python may not match the raw speed of compiled languages like C++, its ease of use and rapid development time often outweigh performance concerns for many applications. For many projects, developer productivity is prioritized over raw speed.\n",
      "\n",
      "2. **Mobile Development**: Although Python is not the primary choice for mobile app development, it does have frameworks like Kivy and BeeWare that allow for mobile application creation. However, it excels in back-end development and data science, which are critical areas in modern software ecosystems.\n",
      "\n",
      "3. **Concurrency**: The GIL can be seen as a limitation, but many Python applications are designed for I/O-bound tasks rather than CPU-bound processes. Additionally, frameworks like asyncio and multiprocessing provide viable solutions for concurrent execution when necessary.\n",
      "\n",
      "4. **Corporate Preference**: The inclination towards Java, C#, and JavaScript in some sectors does not negate Python's substantial impact and deployment in fast-growing fields such as data science, AI, and scripting, where it is the dominant language.\n",
      "\n",
      "5. **Learning Curve**: Despite concerns about dynamic typing, Python’s large ecosystem of tools and frameworks, combined with extensive community support, mitigates these issues, enabling developers to produce robust applications quickly, making it a strategic language choice for startups and agile teams.\n",
      "\n",
      "In summary, while the prosecutor points out valid considerations, Python’s strengths in versatility, community support, and alignment with modern development needs firmly establish it as a leading language of choice for developers today.\n"
     ]
    }
   ],
   "source": [
    "history = ChatHistory()\n",
    "user_input = input(\"User:> \")\n",
    "turns = 0\n",
    "if user_input:\n",
    "    history.add_message(ChatMessageContent(role=AuthorRole.USER, content=f\"User: {user_input}\"))\n",
    "    is_complete: bool = False\n",
    "    while not is_complete:\n",
    "        async for response in advocate.invoke(history=history):\n",
    "            print(f\"advocate: {response.content}\\n--------------------------------------\")\n",
    "            history.add_message(ChatMessageContent(role=AuthorRole.ASSISTANT, content=f\"Advocate: {response.content}\"))\n",
    "            last_proposal = response.content\n",
    "        async for response in prosecutor.invoke(history=history):\n",
    "            print(f\"prosecutor: {response.content}\\n--------------------------------------\") \n",
    "            history.add_message(ChatMessageContent(role=AuthorRole.ASSISTANT, content=f\"Prosecutor: {response.content}\"))                       \n",
    "        if response.content == \"I give up.\":\n",
    "            is_complete = True\n",
    "            break\n",
    "        turns += 1\n",
    "        if turns == 2:\n",
    "            is_complete = True\n",
    "            break\n",
    "print(\"Approved version:\", last_proposal)\n"
   ]
  }
 ],
 "metadata": {
  "kernelspec": {
   "display_name": ".venv",
   "language": "python",
   "name": "python3"
  },
  "language_info": {
   "codemirror_mode": {
    "name": "ipython",
    "version": 3
   },
   "file_extension": ".py",
   "mimetype": "text/x-python",
   "name": "python",
   "nbconvert_exporter": "python",
   "pygments_lexer": "ipython3",
   "version": "3.12.8"
  }
 },
 "nbformat": 4,
 "nbformat_minor": 2
}
