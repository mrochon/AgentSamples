{
 "cells": [
  {
   "cell_type": "markdown",
   "metadata": {},
   "source": [
    "## Chat Completion agent\n",
    "\n",
    "[MS Learn sample](https://learn.microsoft.com/en-us/semantic-kernel/frameworks/agent/chat-completion-agent?pivots=programming-language-python)"
   ]
  },
  {
   "cell_type": "code",
   "execution_count": 15,
   "metadata": {},
   "outputs": [
    {
     "data": {
      "text/plain": [
       "True"
      ]
     },
     "execution_count": 15,
     "metadata": {},
     "output_type": "execute_result"
    }
   ],
   "source": [
    "import asyncio\n",
    "import os\n",
    "import sys\n",
    "from dotenv import load_dotenv\n",
    "from datetime import datetime\n",
    "\n",
    "from semantic_kernel.agents import ChatCompletionAgent\n",
    "from semantic_kernel.connectors.ai.function_choice_behavior import FunctionChoiceBehavior\n",
    "from semantic_kernel.connectors.ai.open_ai import AzureChatCompletion\n",
    "from semantic_kernel.contents.chat_history import ChatHistory\n",
    "from semantic_kernel.contents.chat_message_content import ChatMessageContent\n",
    "from semantic_kernel.contents.utils.author_role import AuthorRole\n",
    "from semantic_kernel.kernel import Kernel\n",
    "\n",
    "load_dotenv()"
   ]
  },
  {
   "cell_type": "code",
   "execution_count": 16,
   "metadata": {},
   "outputs": [],
   "source": [
    "chatServiceName = \"chatService\"\n",
    "advocateName = \"Advocate\"\n",
    "prosecutorName = \"Prosecutor\"\n",
    "advocateInstructions = \"\"\"You are the advocate agent supporting the user proposal. You should articulate reasons supporting that proposal.\n",
    "    You should also argue against any arguments raised by the prosecutor agent and listed in the history.\n",
    "    Be brief and concise in presenting your arguments.\n",
    "    If you cannot find a good argument respond with 'I give up.'\"\"\"\n",
    "prosecutorInstructions = \"\"\"You are the Prosecutor agent whose job is to argue against the User proposal and against the Advocate agents arguments.\n",
    "    Be brief and concise in presenting your arguments.\n",
    "    If you cannot find a good argument respond with 'I give up.'\"\"\""
   ]
  },
  {
   "cell_type": "code",
   "execution_count": 17,
   "metadata": {},
   "outputs": [],
   "source": [
    "chat_completion_service = AzureChatCompletion(\n",
    "    deployment_name=os.getenv(\"AZURE_OPENAI_CHAT_DEPLOYMENT_NAME\"),  \n",
    "    api_key=os.getenv(\"AZURE_OPENAI_API_KEY\"),\n",
    "    endpoint=os.getenv(\"AZURE_OPENAI_ENDPOINT\"),\n",
    "    service_id=chatServiceName, # Optional; for targeting specific services within Semantic Kernel\n",
    ")"
   ]
  },
  {
   "cell_type": "code",
   "execution_count": 18,
   "metadata": {},
   "outputs": [],
   "source": [
    "# Define the Kernel\n",
    "kernel = Kernel()\n",
    "\n",
    "# Add the AzureChatCompletion AI Service to the Kernel\n",
    "kernel.add_service(AzureChatCompletion(service_id=\"chatService\"))\n",
    "\n",
    "# Create the agent\n",
    "advocate = ChatCompletionAgent(\n",
    "  service_id=chatServiceName, \n",
    "  kernel=kernel, \n",
    "  name=advocateName, \n",
    "  instructions=advocateInstructions,\n",
    ")\n",
    "prosecutor = ChatCompletionAgent(\n",
    "  service_id=chatServiceName, \n",
    "  kernel=kernel, \n",
    "  name=prosecutorName, \n",
    "  instructions=prosecutorInstructions,\n",
    ")"
   ]
  },
  {
   "cell_type": "code",
   "execution_count": 20,
   "metadata": {},
   "outputs": [
    {
     "name": "stdout",
     "output_type": "stream",
     "text": [
      "##Proposal\n",
      "\n",
      "Goal justifies the means\n",
      "##Advocate\n",
      "\n",
      " The principle that the goal justifies the means is rooted in the idea that achieving a significant outcome can outweigh the methods employed to get there. Here are several reasons supporting this proposal:\n",
      "\n",
      "1. **Pragmatism**: In many cases, the urgency and importance of a goal (such as saving lives or achieving social justice) can necessitate unconventional methods. If the end result is positive and beneficial, it can be argued that the means were justified.\n",
      "\n",
      "2. **Historical Precedents**: History is filled with examples where disregarding strict ethical norms led to substantial progress (e.g., social movements that challenged unjust laws). These examples showcase that when the ultimate goal is altruistic, the means used can be viewed in a different light.\n",
      "\n",
      "3. **Moral Flexibility**: Rigid adherence to moral codes can sometimes prevent necessary change. By accepting that goals can justify means, society allows for flexibility in thought and action in pursuit of what is deemed a greater good.\n",
      "\n",
      "4. **Consequentialism**: This philosophical approach suggests that the morality of an action is based on its outcomes. If the outcome is positive, then the methods can be considered justified.\n",
      "\n",
      "In response to any prosecutor claims against this proposal, such as potential abuse of power or moral degradation, it is essential to highlight:\n",
      "\n",
      "1. **Consideration of Context**: The context and nature of the goal matter. Not all goals warrant extreme measures, which means that each case should be assessed individually rather than condemning the principle altogether.\n",
      "\n",
      "2. **Focus on Accountability**: Ensuring that there is accountability and checks in place can protect against abuses of this principle. It’s not a blanket justification but rather a nuanced approach to ethics in complex situations.\n",
      "\n",
      "3. **Evolving Norms**: Societal norms change over time, and what may seem morally questionable at one moment may later be viewed as necessary for progress. Embracing the idea that goals can justify means reflects an understanding of this evolution.\n",
      "\n",
      "By recognizing the potential benefits and ethical considerations that can accompany this principle, we can argue effectively in its support.\n",
      "##Prosecutor\n",
      "\n",
      " The principle that \"the goal justifies the means\" can lead to dangerous and unethical outcomes. Here are the arguments against the proposal:\n",
      "\n",
      "1. **Moral Absolutism**: Accepting that the end justifies the means opens the door to justifying immoral or harmful actions. This could result in acts of violence, deceit, or injustice being deemed acceptable if they lead to a perceived 'greater good.'\n",
      "\n",
      "2. **Slippery Slope**: Once we allow certain ends to justify questionable means, it could easily lead to a continuum where more extreme measures are rationalized, eroding ethical standards and accountability.\n",
      "\n",
      "3. **Subjectivity of Goals**: What constitutes an important or significant goal can vary greatly among individuals and groups. This subjectivity risks legitimizing harmful actions that are justified by what one person views as a noble objective, leading to conflicts and societal division.\n",
      "\n",
      "4. **Long-term Consequences**: Actions taken with the belief that the goal justifies them can produce negative long-term effects, undermining the very objectives they sought to achieve. For example, unjust means can breed resentment and conflict, counteracting any initial benefits.\n",
      "\n",
      "5. **Erosion of Trust**: When individuals or organizations operate under this principle, it can lead to a breakdown of trust in societal institutions and ethical frameworks, ultimately harming the fabric of society.\n",
      "\n",
      "In summary, while the intention behind a goal may be good, it does not justify unethical means. We must hold to moral integrity to ensure lasting and genuine positive outcomes.\n",
      "##Advocate\n",
      "\n",
      " I give up.\n"
     ]
    }
   ],
   "source": [
    "history = ChatHistory()\n",
    "user_input = input(\"User:> \")\n",
    "print(f\"##Proposal\\n\\n{user_input}\")\n",
    "turns = 0\n",
    "if user_input:\n",
    "    history.add_message(ChatMessageContent(role=AuthorRole.USER, content=f\"User proposal: {user_input}\"))\n",
    "    is_complete: bool = False\n",
    "    agents = [ advocate, prosecutor ]\n",
    "    agentNo = 0\n",
    "    while not is_complete:\n",
    "        agent = agents[agentNo]\n",
    "        async for response in agent.invoke(history=history):\n",
    "            print(f\"##{agent.name}\\n\\n {response.content}\")\n",
    "            history.add_message(ChatMessageContent(role=AuthorRole.ASSISTANT, content=f\"{agent.name}: {response.content}\"))\n",
    "        if response.content == \"I give up.\":\n",
    "            is_complete = True\n",
    "            break\n",
    "        turns += 1\n",
    "        if turns == 5:\n",
    "            print(\"##Timeout!!!\")\n",
    "            is_complete = True\n",
    "            break\n",
    "        agentNo = (agentNo + 1) % 2\n"
   ]
  }
 ],
 "metadata": {
  "kernelspec": {
   "display_name": ".venv",
   "language": "python",
   "name": "python3"
  },
  "language_info": {
   "codemirror_mode": {
    "name": "ipython",
    "version": 3
   },
   "file_extension": ".py",
   "mimetype": "text/x-python",
   "name": "python",
   "nbconvert_exporter": "python",
   "pygments_lexer": "ipython3",
   "version": "3.12.8"
  }
 },
 "nbformat": 4,
 "nbformat_minor": 2
}
