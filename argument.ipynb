{
 "cells": [
  {
   "cell_type": "markdown",
   "metadata": {},
   "source": [
    "## Chat Completion agent\n",
    "\n",
    "[MS Learn sample](https://learn.microsoft.com/en-us/semantic-kernel/frameworks/agent/chat-completion-agent?pivots=programming-language-python)"
   ]
  },
  {
   "cell_type": "code",
   "execution_count": 2,
   "metadata": {},
   "outputs": [
    {
     "data": {
      "text/plain": [
       "True"
      ]
     },
     "execution_count": 2,
     "metadata": {},
     "output_type": "execute_result"
    }
   ],
   "source": [
    "import asyncio\n",
    "import os\n",
    "import sys\n",
    "from dotenv import load_dotenv\n",
    "from datetime import datetime\n",
    "\n",
    "from semantic_kernel.agents import ChatCompletionAgent\n",
    "from semantic_kernel.connectors.ai.function_choice_behavior import FunctionChoiceBehavior\n",
    "from semantic_kernel.connectors.ai.open_ai import AzureChatCompletion\n",
    "from semantic_kernel.contents.chat_history import ChatHistory\n",
    "from semantic_kernel.contents.chat_message_content import ChatMessageContent\n",
    "from semantic_kernel.contents.utils.author_role import AuthorRole\n",
    "from semantic_kernel.kernel import Kernel\n",
    "\n",
    "load_dotenv()"
   ]
  },
  {
   "cell_type": "code",
   "execution_count": 9,
   "metadata": {},
   "outputs": [],
   "source": [
    "chatServiceName = \"chatService\"\n",
    "advocateName = \"Advocate\"\n",
    "prosecutorName = \"Prosecutor\"\n",
    "advocateInstructions = \"\"\"You are an agent advocate agent whose job is to support the User thesis and argue against the Prosecutor agents arguments.\n",
    "    Be brief and concise in presenting your arguments.\n",
    "    If you cannot find a good argument respond with 'I give up.'\"\"\"\n",
    "prosecutorInstructions = \"\"\"You are the Prosecutor agent whose job is to argue against the User thesis and against the Advocate agents arguments.\n",
    "    Be brief and concise in presenting your arguments.\n",
    "    If you cannot find a good argument respond with 'I give up.'\"\"\""
   ]
  },
  {
   "cell_type": "code",
   "execution_count": 4,
   "metadata": {},
   "outputs": [],
   "source": [
    "chat_completion_service = AzureChatCompletion(\n",
    "    deployment_name=os.getenv(\"AZURE_OPENAI_CHAT_DEPLOYMENT_NAME\"),  \n",
    "    api_key=os.getenv(\"AZURE_OPENAI_API_KEY\"),\n",
    "    endpoint=os.getenv(\"AZURE_OPENAI_ENDPOINT\"),\n",
    "    service_id=chatServiceName, # Optional; for targeting specific services within Semantic Kernel\n",
    ")"
   ]
  },
  {
   "cell_type": "code",
   "execution_count": 10,
   "metadata": {},
   "outputs": [],
   "source": [
    "# Define the Kernel\n",
    "kernel = Kernel()\n",
    "\n",
    "# Add the AzureChatCompletion AI Service to the Kernel\n",
    "kernel.add_service(AzureChatCompletion(service_id=\"chatService\"))\n",
    "\n",
    "# Create the agent\n",
    "advocate = ChatCompletionAgent(\n",
    "  service_id=chatServiceName, \n",
    "  kernel=kernel, \n",
    "  name=advocateName, \n",
    "  instructions=advocateInstructions,\n",
    ")\n",
    "prosecutor = ChatCompletionAgent(\n",
    "  service_id=chatServiceName, \n",
    "  kernel=kernel, \n",
    "  name=prosecutorName, \n",
    "  instructions=prosecutorInstructions,\n",
    ")"
   ]
  },
  {
   "cell_type": "code",
   "execution_count": 8,
   "metadata": {},
   "outputs": [
    {
     "name": "stdout",
     "output_type": "stream",
     "text": [
      "Advocate\n"
     ]
    }
   ],
   "source": [
    "print(agent.name)"
   ]
  },
  {
   "cell_type": "code",
   "execution_count": 14,
   "metadata": {},
   "outputs": [
    {
     "name": "stdout",
     "output_type": "stream",
     "text": [
      "##Proposal\n",
      "\n",
      "Fresh air is good for the lungs\n",
      "##Advocate\n",
      "\n",
      " Prosecutor: Fresh air can be polluted and harmful to the lungs.\n",
      "\n",
      "Advocate: While pollution is a concern, fresh air generally refers to cleaner environments, which are essential for lung health. Furthermore, exposure to fresh air can help improve lung function and overall well-being. The benefits of fresh air typically outweigh the risks associated with pollution, especially in less urbanized areas.\n",
      "##Prosecutor\n",
      "\n",
      " Prosecutor: Even in cleaner environments, allergens and other irritants present in fresh air can still negatively impact lung health, particularly in individuals with existing respiratory issues. Additionally, the concept of \"fresh air\" is subjective and varies widely, making it an unreliable measure of lung health benefits.\n"
     ]
    }
   ],
   "source": [
    "history = ChatHistory()\n",
    "user_input = input(\"User:> \")\n",
    "print(f\"##Proposal\\n\\n{user_input}\")\n",
    "turns = 0\n",
    "if user_input:\n",
    "    history.add_message(ChatMessageContent(role=AuthorRole.USER, content=f\"User: {user_input}\"))\n",
    "    is_complete: bool = False\n",
    "    agents = [ advocate, prosecutor ]\n",
    "    agentNo = 0\n",
    "    while not is_complete:\n",
    "        agent = agents[agentNo]\n",
    "        async for response in agent.invoke(history=history):\n",
    "            print(f\"##{agent.name}\\n\\n {response.content}\")\n",
    "            history.add_message(ChatMessageContent(role=AuthorRole.ASSISTANT, content=f\"{agent.name}: {response.content}\"))\n",
    "        if response.content == \"I give up.\":\n",
    "            is_complete = True\n",
    "            break\n",
    "        turns += 1\n",
    "        if turns == 2:\n",
    "            is_complete = True\n",
    "            break\n",
    "        agentNo = (agentNo + 1) % 2\n"
   ]
  }
 ],
 "metadata": {
  "kernelspec": {
   "display_name": ".venv",
   "language": "python",
   "name": "python3"
  },
  "language_info": {
   "codemirror_mode": {
    "name": "ipython",
    "version": 3
   },
   "file_extension": ".py",
   "mimetype": "text/x-python",
   "name": "python",
   "nbconvert_exporter": "python",
   "pygments_lexer": "ipython3",
   "version": "3.12.8"
  }
 },
 "nbformat": 4,
 "nbformat_minor": 2
}
